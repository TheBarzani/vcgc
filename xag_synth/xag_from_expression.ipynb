{
 "cells": [
  {
   "cell_type": "code",
   "execution_count": null,
   "id": "5229a859",
   "metadata": {},
   "outputs": [],
   "source": [
    "from tweedledum.synthesis import xag_synth  # Import XAG synthesis\n",
    "from qiskit.circuit.classicalfunction.utils import tweedledum2qiskit\n",
    "from qiskit.circuit.classicalfunction import ClassicalFunction\n",
    "from tweedledum.qiskit import *\n",
    "from qiskit.circuit.classicalfunction.types import Int1\n",
    "import inspect\n",
    "from textwrap import dedent\n",
    "from tweedledum.bool_function_compiler.bitvec import BitVec\n",
    "from tweedledum.bool_function_compiler.bool_function import BoolFunction\n",
    "from tweedledum.classical import write_verilog\n"
   ]
  }
 ],
 "metadata": {
  "language_info": {
   "name": "python"
  }
 },
 "nbformat": 4,
 "nbformat_minor": 5
}
