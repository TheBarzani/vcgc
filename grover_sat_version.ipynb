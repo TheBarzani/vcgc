{
 "cells": [
  {
   "cell_type": "code",
   "execution_count": 8,
   "metadata": {},
   "outputs": [
    {
     "data": {
      "image/png": "[encoded data removed]",
      "text/plain": [
       "<Figure size 371.107x367.889 with 1 Axes>"
      ]
     },
     "execution_count": 8,
     "metadata": {},
     "output_type": "execute_result"
    }
   ],
   "source": [
    "from qiskit.circuit.classicalfunction import classical_function\n",
    "from qiskit.circuit.classicalfunction.types import Int1\n",
    " \n",
    "@classical_function\n",
    "def grover_oracle(a: Int1, b: Int1, c: Int1) -> Int1:\n",
    "    return (a and not b and ( c ^ a))\n",
    " \n",
    "quantum_circuit = grover_oracle.synth(registerless=True)\n",
    "quantum_circuit.decompose().draw('mpl')"
   ]
  },
  {
   "cell_type": "code",
   "execution_count": null,
   "metadata": {},
   "outputs": [
    {
     "name": "stdout",
     "output_type": "stream",
     "text": [
      "Direct implementation:\n",
      "          \n",
      "q_0: ──■──\n",
      "       │  \n",
      "q_1: ──■──\n",
      "     ┌─┴─┐\n",
      "q_2: ┤ X ├\n",
      "     └───┘\n",
      "c: 3/═════\n",
      "          \n",
      "\n",
      "Alternative implementation:\n",
      "                     \n",
      "q_0: ──────■─────────\n",
      "           │         \n",
      "q_1: ──────┼──■──────\n",
      "     ┌───┐ │  │ ┌───┐\n",
      "q_2: ┤ H ├─■──■─┤ H ├\n",
      "     └───┘      └───┘\n",
      "c: 3/════════════════\n",
      "                     \n"
     ]
    }
   ],
   "source": [
    "from qiskit import QuantumCircuit, QuantumRegister, ClassicalRegister\n",
    "from qiskit.circuit.library import CCXGate  # Toffoli gate (controlled-controlled-X)\n",
    "\n",
    "# Create quantum registers\n",
    "qreg = QuantumRegister(3, 'q')\n",
    "creg = ClassicalRegister(3, 'c')\n",
    "circuit = QuantumCircuit(qreg, creg)\n",
    "\n",
    "# Method 1: Direct implementation using Toffoli gate (CCX)\n",
    "# This corresponds to the left side of the equation in your image\n",
    "circuit.ccx(qreg[0], qreg[1], qreg[2])\n",
    "\n",
    "# Method 2: Implementation with H and X gates as shown on the right side\n",
    "# Create a new circuit for the alternative implementation\n",
    "alt_circuit = QuantumCircuit(qreg, creg)\n",
    "\n",
    "# Apply Hadamard gate to the target qubit\n",
    "alt_circuit.h(qreg[2])\n",
    "\n",
    "# Apply controlled operation (the middle part with the arrow)\n",
    "# This is a controlled-Z gate with two controls\n",
    "alt_circuit.cz(qreg[0], qreg[2])\n",
    "alt_circuit.cz(qreg[1], qreg[2])\n",
    "\n",
    "# Apply X gate to the target qubit\n",
    "alt_circuit.h(qreg[2])\n",
    "\n",
    "# Draw the circuits\n",
    "print(\"Direct implementation:\")\n",
    "print(circuit.draw('mpl'))\n",
    "print(\"\\nAlternative implementation:\")\n",
    "print(alt_circuit.draw('mpl'))"
   ]
  }
 ],
 "metadata": {
  "kernelspec": {
   "display_name": ".venv",
   "language": "python",
   "name": "python3"
  },
  "language_info": {
   "codemirror_mode": {
    "name": "ipython",
    "version": 3
   },
   "file_extension": ".py",
   "mimetype": "text/x-python",
   "name": "python",
   "nbconvert_exporter": "python",
   "pygments_lexer": "ipython3",
   "version": "3.10.12"
  }
 },
 "nbformat": 4,
 "nbformat_minor": 2
}
