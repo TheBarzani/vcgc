{
 "cells": [
  {
   "cell_type": "markdown",
   "id": "f87ffe3f",
   "metadata": {},
   "source": [
    "# 📊 VCGC vs SAHA-BELLETTI Flow\n",
    "This is a draft to compare the performance on my proposed flow, VCGC, to the state-of-the-art flow, Saha-Belleti et al.\n",
    "I would be comparing documenting and comparing the differences in the my proposed flow and the SOTA flow. \n",
    "VCGC is primarily based on the idea of using state-of-the-art logic synthesis and reversible circuit logic with a layered approach that opens room for optimizations.\n",
    "Saha-Belletti et al. proposed flow is based on a monolothic architecture which uses invalid-color-detector and comparator oracles.   "
   ]
  },
  {
   "cell_type": "markdown",
   "id": "d19a2721",
   "metadata": {},
   "source": [
    "## 📦 Packages\n",
    "For the pupose of this research study, I independently developed and implemented the library for VCGC and repurposed the open-source code provided by [Analyzing, Fixing and Optimizing a Space-Efficient Quantum Circuit for the Graph K-Coloring Problem](https://github.com/Oscar-Belletti/Analyzing-Fixing-and-Optimizing-a-Space-Efficient-Quantum-Circuit-for-the-Graph-K-Coloring-Problem) by converting into a re-usable python library. _These libraries are essential in automating the synthesis of the circuits and generation of benchmark results._\n"
   ]
  },
  {
   "cell_type": "markdown",
   "id": "1ef830d2",
   "metadata": {},
   "source": [
    "### 1. Creating a Vertex Coloring Problem Network (VCP)\n",
    "This will read from the DIMACS.col files which contain the benchamrks and parse it to be a VCPNetwork object which contains the metadata of the graph and a NetworkX representation of the graph. This will serve as the input to both of the libraries."
   ]
  },
  {
   "cell_type": "code",
   "execution_count": 1,
   "id": "3cd44415",
   "metadata": {},
   "outputs": [
    {
     "data": {
      "image/png": "[encoded data removed]",
      "text/plain": [
       "<Figure size 500x500 with 1 Axes>"
      ]
     },
     "metadata": {},
     "output_type": "display_data"
    }
   ],
   "source": [
    "from vcgc.network import VCPNetwork\n",
    "\n",
    "out_dir: str = \"../data/vcgc_vs_saha_belletti/\"\n",
    "filename: str = \"linear_2_colored\"\n",
    "dimacs_filename: str = \"../data/benchmarks/\" + filename + \".col\"\n",
    "\n",
    "network = VCPNetwork(file_path=dimacs_filename)\n",
    "\n",
    "graph_filename: str = out_dir + filename + \".png\"\n",
    "with open(graph_filename,\"w+\") as f:\n",
    "    f.close()\n",
    "    \n",
    "# Display the graph\n",
    "network.draw_graph(name=graph_filename, node_size=1000) # Draw nice graph using NetworkX"
   ]
  },
  {
   "cell_type": "markdown",
   "id": "1fc480ac",
   "metadata": {},
   "source": [
    "### 2. Grover Circuit Synthesis using VCGC\n",
    "This will prepare the complete grover's circuit using the VCGC library."
   ]
  },
  {
   "cell_type": "markdown",
   "id": "479b4be0",
   "metadata": {},
   "source": [
    "#### 2.1 Extract the graph constraints"
   ]
  },
  {
   "cell_type": "code",
   "execution_count": 2,
   "id": "16a5c831",
   "metadata": {},
   "outputs": [
    {
     "name": "stdout",
     "output_type": "stream",
     "text": [
      "(v1 != v2) ∧ (v2 != v3) ∧ (v3 != v4) ∧ (v4 != v5)\n",
      "\n"
     ]
    }
   ],
   "source": [
    "from vcgc.boolean import BooleanFunction\n",
    "\n",
    "# Create Boolean function and display the constraints \n",
    "bf: BooleanFunction  = BooleanFunction()\n",
    "bf.print_vertex_constraints(network=network)"
   ]
  },
  {
   "cell_type": "markdown",
   "id": "4ee2bc75",
   "metadata": {},
   "source": [
    "#### 2.2 Generate the corresponding Logic Network"
   ]
  },
  {
   "cell_type": "code",
   "execution_count": 3,
   "id": "d9739a8c",
   "metadata": {},
   "outputs": [
    {
     "name": "stdout",
     "output_type": "stream",
     "text": [
      "Verilog file written to: ../data/vcgc_vs_saha_belletti/linear_2_colored.v\n"
     ]
    },
    {
     "data": {
      "image/svg+xml": [
       "<?xml version=\"1.0\" encoding=\"UTF-8\" standalone=\"no\"?>\n",
       "<!DOCTYPE svg PUBLIC \"-//W3C//DTD SVG 1.1//EN\"\n",
       " \"http://www.w3.org/Graphics/SVG/1.1/DTD/svg11.dtd\">\n",
       "<!-- Generated by graphviz version 13.1.1 (20250719.2154)\n",
       " -->\n",
       "<!-- Pages: 1 -->\n",
       "<svg width=\"462pt\" height=\"430pt\"\n",
       " viewBox=\"0.00 0.00 462.00 430.00\" xmlns=\"http://www.w3.org/2000/svg\" xmlns:xlink=\"http://www.w3.org/1999/xlink\">\n",
       "<g id=\"graph0\" class=\"graph\" transform=\"scale(1 1) rotate(0) translate(4 426)\">\n",
       "<polygon fill=\"white\" stroke=\"none\" points=\"-4,4 -4,-426 458.05,-426 458.05,4 -4,4\"/>\n",
       "<!-- 0 -->\n",
       "<g id=\"node1\" class=\"node\">\n",
       "<title>0</title>\n",
       "<polygon fill=\"#eee9e9\" stroke=\"black\" points=\"54,-42.5 0,-42.5 0,-6.5 54,-6.5 54,-42.5\"/>\n",
       "<text xml:space=\"preserve\" text-anchor=\"middle\" x=\"27\" y=\"-19.45\" font-family=\"Times,serif\" font-size=\"14.00\">0</text>\n",
       "</g>\n",
       "<!-- 1 -->\n",
       "<g id=\"node2\" class=\"node\">\n",
       "<title>1</title>\n",
       "<polygon fill=\"#eee9e9\" stroke=\"black\" points=\"103,-49 71.95,-12.25 134.05,-12.25 103,-49\"/>\n",
       "<text xml:space=\"preserve\" text-anchor=\"middle\" x=\"103\" y=\"-19.45\" font-family=\"Times,serif\" font-size=\"14.00\">1</text>\n",
       "</g>\n",
       "<!-- 6 -->\n",
       "<g id=\"node7\" class=\"node\">\n",
       "<title>6</title>\n",
       "<ellipse fill=\"lightskyblue\" stroke=\"black\" cx=\"144\" cy=\"-103\" rx=\"30.37\" ry=\"18\"/>\n",
       "<text xml:space=\"preserve\" text-anchor=\"middle\" x=\"144\" y=\"-97.95\" font-family=\"Times,serif\" font-size=\"14.00\">XOR</text>\n",
       "</g>\n",
       "<!-- 1&#45;&gt;6 -->\n",
       "<g id=\"edge2\" class=\"edge\">\n",
       "<title>1&#45;&gt;6</title>\n",
       "<path fill=\"none\" stroke=\"black\" d=\"M110.91,-40.25C116.27,-50.26 123.51,-63.77 129.85,-75.6\"/>\n",
       "<polygon fill=\"black\" stroke=\"black\" points=\"126.6,-76.94 134.41,-84.1 132.77,-73.63 126.6,-76.94\"/>\n",
       "</g>\n",
       "<!-- 2 -->\n",
       "<g id=\"node3\" class=\"node\">\n",
       "<title>2</title>\n",
       "<polygon fill=\"#eee9e9\" stroke=\"black\" points=\"183,-49 151.95,-12.25 214.05,-12.25 183,-49\"/>\n",
       "<text xml:space=\"preserve\" text-anchor=\"middle\" x=\"183\" y=\"-19.45\" font-family=\"Times,serif\" font-size=\"14.00\">2</text>\n",
       "</g>\n",
       "<!-- 2&#45;&gt;6 -->\n",
       "<g id=\"edge1\" class=\"edge\">\n",
       "<title>2&#45;&gt;6</title>\n",
       "<path fill=\"none\" stroke=\"black\" d=\"M175.29,-40.61C170.26,-50.48 163.56,-63.64 157.64,-75.24\"/>\n",
       "<polygon fill=\"black\" stroke=\"black\" points=\"154.61,-73.48 153.19,-83.98 160.85,-76.66 154.61,-73.48\"/>\n",
       "</g>\n",
       "<!-- 7 -->\n",
       "<g id=\"node8\" class=\"node\">\n",
       "<title>7</title>\n",
       "<ellipse fill=\"lightskyblue\" stroke=\"black\" cx=\"223\" cy=\"-103\" rx=\"30.37\" ry=\"18\"/>\n",
       "<text xml:space=\"preserve\" text-anchor=\"middle\" x=\"223\" y=\"-97.95\" font-family=\"Times,serif\" font-size=\"14.00\">XOR</text>\n",
       "</g>\n",
       "<!-- 2&#45;&gt;7 -->\n",
       "<g id=\"edge4\" class=\"edge\">\n",
       "<title>2&#45;&gt;7</title>\n",
       "<path fill=\"none\" stroke=\"black\" d=\"M190.71,-40.25C195.89,-50.16 202.87,-63.5 209.01,-75.24\"/>\n",
       "<polygon fill=\"black\" stroke=\"black\" points=\"205.9,-76.85 213.64,-84.09 212.11,-73.61 205.9,-76.85\"/>\n",
       "</g>\n",
       "<!-- 3 -->\n",
       "<g id=\"node4\" class=\"node\">\n",
       "<title>3</title>\n",
       "<polygon fill=\"#eee9e9\" stroke=\"black\" points=\"263,-49 231.95,-12.25 294.05,-12.25 263,-49\"/>\n",
       "<text xml:space=\"preserve\" text-anchor=\"middle\" x=\"263\" y=\"-19.45\" font-family=\"Times,serif\" font-size=\"14.00\">3</text>\n",
       "</g>\n",
       "<!-- 3&#45;&gt;7 -->\n",
       "<g id=\"edge3\" class=\"edge\">\n",
       "<title>3&#45;&gt;7</title>\n",
       "<path fill=\"none\" stroke=\"black\" d=\"M255.29,-40.25C250.11,-50.16 243.13,-63.5 236.99,-75.24\"/>\n",
       "<polygon fill=\"black\" stroke=\"black\" points=\"233.89,-73.61 232.36,-84.09 240.1,-76.85 233.89,-73.61\"/>\n",
       "</g>\n",
       "<!-- 9 -->\n",
       "<g id=\"node10\" class=\"node\">\n",
       "<title>9</title>\n",
       "<ellipse fill=\"lightskyblue\" stroke=\"black\" cx=\"302\" cy=\"-103\" rx=\"30.37\" ry=\"18\"/>\n",
       "<text xml:space=\"preserve\" text-anchor=\"middle\" x=\"302\" y=\"-97.95\" font-family=\"Times,serif\" font-size=\"14.00\">XOR</text>\n",
       "</g>\n",
       "<!-- 3&#45;&gt;9 -->\n",
       "<g id=\"edge8\" class=\"edge\">\n",
       "<title>3&#45;&gt;9</title>\n",
       "<path fill=\"none\" stroke=\"black\" d=\"M270.71,-40.61C275.74,-50.48 282.44,-63.64 288.36,-75.24\"/>\n",
       "<polygon fill=\"black\" stroke=\"black\" points=\"285.15,-76.66 292.81,-83.98 291.39,-73.48 285.15,-76.66\"/>\n",
       "</g>\n",
       "<!-- 4 -->\n",
       "<g id=\"node5\" class=\"node\">\n",
       "<title>4</title>\n",
       "<polygon fill=\"#eee9e9\" stroke=\"black\" points=\"343,-49 311.95,-12.25 374.05,-12.25 343,-49\"/>\n",
       "<text xml:space=\"preserve\" text-anchor=\"middle\" x=\"343\" y=\"-19.45\" font-family=\"Times,serif\" font-size=\"14.00\">4</text>\n",
       "</g>\n",
       "<!-- 4&#45;&gt;9 -->\n",
       "<g id=\"edge7\" class=\"edge\">\n",
       "<title>4&#45;&gt;9</title>\n",
       "<path fill=\"none\" stroke=\"black\" d=\"M335.09,-40.25C329.73,-50.26 322.49,-63.77 316.15,-75.6\"/>\n",
       "<polygon fill=\"black\" stroke=\"black\" points=\"313.23,-73.63 311.59,-84.1 319.4,-76.94 313.23,-73.63\"/>\n",
       "</g>\n",
       "<!-- 11 -->\n",
       "<g id=\"node12\" class=\"node\">\n",
       "<title>11</title>\n",
       "<ellipse fill=\"lightskyblue\" stroke=\"black\" cx=\"381\" cy=\"-103\" rx=\"30.37\" ry=\"18\"/>\n",
       "<text xml:space=\"preserve\" text-anchor=\"middle\" x=\"381\" y=\"-97.95\" font-family=\"Times,serif\" font-size=\"14.00\">XOR</text>\n",
       "</g>\n",
       "<!-- 4&#45;&gt;11 -->\n",
       "<g id=\"edge12\" class=\"edge\">\n",
       "<title>4&#45;&gt;11</title>\n",
       "<path fill=\"none\" stroke=\"black\" d=\"M350.51,-40.61C355.41,-50.48 361.95,-63.64 367.71,-75.24\"/>\n",
       "<polygon fill=\"black\" stroke=\"black\" points=\"364.46,-76.57 372.04,-83.97 370.73,-73.46 364.46,-76.57\"/>\n",
       "</g>\n",
       "<!-- 5 -->\n",
       "<g id=\"node6\" class=\"node\">\n",
       "<title>5</title>\n",
       "<polygon fill=\"#eee9e9\" stroke=\"black\" points=\"423,-49 391.95,-12.25 454.05,-12.25 423,-49\"/>\n",
       "<text xml:space=\"preserve\" text-anchor=\"middle\" x=\"423\" y=\"-19.45\" font-family=\"Times,serif\" font-size=\"14.00\">5</text>\n",
       "</g>\n",
       "<!-- 5&#45;&gt;11 -->\n",
       "<g id=\"edge11\" class=\"edge\">\n",
       "<title>5&#45;&gt;11</title>\n",
       "<path fill=\"none\" stroke=\"black\" d=\"M415.1,-39.89C409.59,-49.93 402.07,-63.63 395.49,-75.6\"/>\n",
       "<polygon fill=\"black\" stroke=\"black\" points=\"392.5,-73.77 390.76,-84.22 398.64,-77.14 392.5,-73.77\"/>\n",
       "</g>\n",
       "<!-- 8 -->\n",
       "<g id=\"node9\" class=\"node\">\n",
       "<title>8</title>\n",
       "<ellipse fill=\"lightcoral\" stroke=\"black\" cx=\"223\" cy=\"-175\" rx=\"30.88\" ry=\"18\"/>\n",
       "<text xml:space=\"preserve\" text-anchor=\"middle\" x=\"223\" y=\"-169.95\" font-family=\"Times,serif\" font-size=\"14.00\">AND</text>\n",
       "</g>\n",
       "<!-- 6&#45;&gt;8 -->\n",
       "<g id=\"edge5\" class=\"edge\">\n",
       "<title>6&#45;&gt;8</title>\n",
       "<path fill=\"none\" stroke=\"black\" d=\"M160.37,-118.5C171.28,-128.17 185.82,-141.06 198.15,-151.98\"/>\n",
       "<polygon fill=\"black\" stroke=\"black\" points=\"195.71,-154.5 205.52,-158.51 200.36,-149.26 195.71,-154.5\"/>\n",
       "</g>\n",
       "<!-- 7&#45;&gt;8 -->\n",
       "<g id=\"edge6\" class=\"edge\">\n",
       "<title>7&#45;&gt;8</title>\n",
       "<path fill=\"none\" stroke=\"black\" d=\"M223,-121.3C223,-128.59 223,-137.27 223,-145.46\"/>\n",
       "<polygon fill=\"black\" stroke=\"black\" points=\"219.5,-145.38 223,-155.38 226.5,-145.38 219.5,-145.38\"/>\n",
       "</g>\n",
       "<!-- 10 -->\n",
       "<g id=\"node11\" class=\"node\">\n",
       "<title>10</title>\n",
       "<ellipse fill=\"lightcoral\" stroke=\"black\" cx=\"302\" cy=\"-247\" rx=\"30.88\" ry=\"18\"/>\n",
       "<text xml:space=\"preserve\" text-anchor=\"middle\" x=\"302\" y=\"-241.95\" font-family=\"Times,serif\" font-size=\"14.00\">AND</text>\n",
       "</g>\n",
       "<!-- 8&#45;&gt;10 -->\n",
       "<g id=\"edge9\" class=\"edge\">\n",
       "<title>8&#45;&gt;10</title>\n",
       "<path fill=\"none\" stroke=\"black\" d=\"M239.37,-190.5C250.28,-200.17 264.82,-213.06 277.15,-223.98\"/>\n",
       "<polygon fill=\"black\" stroke=\"black\" points=\"274.71,-226.5 284.52,-230.51 279.36,-221.26 274.71,-226.5\"/>\n",
       "</g>\n",
       "<!-- 9&#45;&gt;10 -->\n",
       "<g id=\"edge10\" class=\"edge\">\n",
       "<title>9&#45;&gt;10</title>\n",
       "<path fill=\"none\" stroke=\"black\" d=\"M302,-121.41C302,-145.39 302,-188.86 302,-217.58\"/>\n",
       "<polygon fill=\"black\" stroke=\"black\" points=\"298.5,-217.38 302,-227.38 305.5,-217.38 298.5,-217.38\"/>\n",
       "</g>\n",
       "<!-- 12 -->\n",
       "<g id=\"node13\" class=\"node\">\n",
       "<title>12</title>\n",
       "<ellipse fill=\"lightcoral\" stroke=\"black\" cx=\"331\" cy=\"-319\" rx=\"30.88\" ry=\"18\"/>\n",
       "<text xml:space=\"preserve\" text-anchor=\"middle\" x=\"331\" y=\"-313.95\" font-family=\"Times,serif\" font-size=\"14.00\">AND</text>\n",
       "</g>\n",
       "<!-- 10&#45;&gt;12 -->\n",
       "<g id=\"edge13\" class=\"edge\">\n",
       "<title>10&#45;&gt;12</title>\n",
       "<path fill=\"none\" stroke=\"black\" d=\"M309.02,-264.95C312.23,-272.68 316.1,-282.04 319.7,-290.73\"/>\n",
       "<polygon fill=\"black\" stroke=\"black\" points=\"316.4,-291.91 323.47,-299.81 322.87,-289.23 316.4,-291.91\"/>\n",
       "</g>\n",
       "<!-- 11&#45;&gt;12 -->\n",
       "<g id=\"edge14\" class=\"edge\">\n",
       "<title>11&#45;&gt;12</title>\n",
       "<path fill=\"none\" stroke=\"black\" d=\"M376.99,-121.15C368.4,-157.93 348.12,-244.71 337.6,-289.76\"/>\n",
       "<polygon fill=\"black\" stroke=\"black\" points=\"334.24,-288.76 335.37,-299.29 341.05,-290.35 334.24,-288.76\"/>\n",
       "</g>\n",
       "<!-- po0 -->\n",
       "<g id=\"node14\" class=\"node\">\n",
       "<title>po0</title>\n",
       "<polygon fill=\"#eee9e9\" stroke=\"black\" points=\"331,-373 380.47,-409.75 281.53,-409.75 331,-373\"/>\n",
       "<text xml:space=\"preserve\" text-anchor=\"middle\" x=\"331\" y=\"-392.45\" font-family=\"Times,serif\" font-size=\"14.00\">po0</text>\n",
       "</g>\n",
       "<!-- 12&#45;&gt;po0 -->\n",
       "<g id=\"edge15\" class=\"edge\">\n",
       "<title>12&#45;&gt;po0</title>\n",
       "<path fill=\"none\" stroke=\"black\" d=\"M331,-337.36C331,-344.43 331,-352.88 331,-361.14\"/>\n",
       "<polygon fill=\"black\" stroke=\"black\" points=\"327.5,-361.03 331,-371.03 334.5,-361.03 327.5,-361.03\"/>\n",
       "</g>\n",
       "</g>\n",
       "</svg>\n"
      ],
      "text/plain": [
       "<graphviz.sources.Source at 0x10fae3820>"
      ]
     },
     "execution_count": 3,
     "metadata": {},
     "output_type": "execute_result"
    }
   ],
   "source": [
    "from tweedledum.bool_function_compiler.bool_function import BoolFunction\n",
    "from tweedledum.classical import write_gate_dot, LogicNetwork\n",
    "from graphviz import Source\n",
    "\n",
    "# Generate tweedledum boolean function\n",
    "tweedledum_bf: BoolFunction = bf.create_multi_bit_function(network=network)\n",
    "logic_network: LogicNetwork = tweedledum_bf.logic_network()\n",
    "\n",
    "# Write to Verilog\n",
    "verilog_filename: str = out_dir + filename + \".v\"\n",
    "bf.write_verilog_file(network=network, filename=verilog_filename)\n",
    "\n",
    "dot_filename: str = out_dir + filename + \".dot\"\n",
    "\n",
    "# Create a file with filename if it does not exist\n",
    "with open(file=dot_filename, mode=\"w+\") as f:\n",
    "    f.close()\n",
    "\n",
    "write_gate_dot(logic_network, dot_filename)\n",
    "\n",
    "# Read and display the dot file\n",
    "with open(dot_filename, 'r') as f:\n",
    "    dot_content = f.read()\n",
    "\n",
    "# Create and display the graph\n",
    "graph = Source(dot_content)\n",
    "# graph.view()  # This will open in external viewer\n",
    "graph  # This will display inline in Jupyter notebook"
   ]
  },
  {
   "cell_type": "markdown",
   "id": "0bdcce08",
   "metadata": {},
   "source": [
    "#### 2.3 Set up XAG Synthesizer"
   ]
  },
  {
   "cell_type": "code",
   "execution_count": 4,
   "id": "982605d5",
   "metadata": {},
   "outputs": [],
   "source": [
    "from vcgc.synthesis import Synthesizer\n",
    "\n",
    "synthesizer: Synthesizer = Synthesizer(cf=tweedledum_bf)"
   ]
  },
  {
   "cell_type": "markdown",
   "id": "9d12d506",
   "metadata": {},
   "source": [
    "#### 2.4 Synthesize with XAG"
   ]
  },
  {
   "cell_type": "code",
   "execution_count": 5,
   "id": "73a6a400",
   "metadata": {},
   "outputs": [
    {
     "name": "stdout",
     "output_type": "stream",
     "text": [
      "Number of qubits: 8\n",
      "                                                ╭────╮                    »\n",
      "__a7 : ─────────────────────────────────────────┤ rx ├────────────────────»\n",
      "                      ╭────╮                    ╰─┬──╯                    »\n",
      "__a6 : ───────────────┤ rx ├──────────────────────●───────────────────────»\n",
      "                      ╰─┬──╯                      │                       »\n",
      "__q5 : ─────────────────┼─────────────────────────┼───────────────────────»\n",
      "                        │                         │             ╭────────╮»\n",
      "__q4 : ─────────────────┼─────────────────────────┼─────────────┤ parity ├»\n",
      "                        │             ╭────────╮  │   ╭────────╮╰───┬────╯»\n",
      "__q3 : ─────────────────┼─────────────┤ parity ├──●───┤ parity ├────●─────»\n",
      "                        │             ╰───┬────╯      ╰───┬────╯          »\n",
      "__q2 : ─────────●───────┼───────●─────────●───────────────●───────────────»\n",
      "            ╭───┴────╮  │   ╭───┴────╮                                    »\n",
      "__q1 : ──●──┤ parity ├──●───┤ parity ├────●───────●───────────────────────»\n",
      "       ╭─┴─╮╰────────╯  │   ╰────────╯  ╭─┴─╮   ╭─┴─╮                     »\n",
      "__q0 : ┤ x ├────────────●───────────────┤ x ├───┤ x ├─────────────────────»\n",
      "       ╰───╯                            ╰───╯   ╰───╯                     »\n",
      "\n",
      "################################################################################\n",
      "\n",
      "                         ╭────╮                                         \n",
      "──●──────────────────────┤ rx ├─────────────────────────────────────────\n",
      "  │                      ╰─┬──╯                    ╭────╮               \n",
      "──┼────────────────────────●───────────────────────┤ rx ├───────────────\n",
      "╭─┴─╮                      │                       ╰─┬──╯               \n",
      "┤ x ├──────────────────────┼─────────────────────────┼──────────────────\n",
      "╰─┬─╯╭────────╮            │                         │                  \n",
      "──●──┤ parity ├────────────┼─────────────────────────┼──────────────────\n",
      "     ╰───┬────╯╭────────╮  │   ╭────────╮            │                  \n",
      "─────────●─────┤ parity ├──●───┤ parity ├────────────┼──────────────────\n",
      "               ╰───┬────╯      ╰───┬────╯            │                  \n",
      "───────────────────●───────────────●─────────●───────┼───────●──────────\n",
      "                                         ╭───┴────╮  │   ╭───┴────╮     \n",
      "─────────────────────────────────────────┤ parity ├──●───┤ parity ├──●──\n",
      "                                         ╰────────╯  │   ╰────────╯╭─┴─╮\n",
      "─────────────────────────────────────────────────────●─────────────┤ x ├\n",
      "                                                                   ╰───╯\n",
      "\n"
     ]
    }
   ],
   "source": [
    "from qiskit import QuantumCircuit\n",
    "\n",
    "oracle_circuit_xag: QuantumCircuit = synthesizer.synthesize_with_xag()\n",
    "# To output the circuit as ASCII art:\n",
    "synthesizer.print_circuit_info()\n"
   ]
  },
  {
   "cell_type": "markdown",
   "id": "4f74a15a",
   "metadata": {},
   "source": [
    "#### 2.5 Display and Save the oracle circuit"
   ]
  },
  {
   "cell_type": "code",
   "execution_count": 7,
   "id": "e92170a7",
   "metadata": {},
   "outputs": [
    {
     "data": {
      "image/png": "[encoded data removed]",
      "text/plain": [
       "<Figure size 1541.66x702.333 with 1 Axes>"
      ]
     },
     "execution_count": 7,
     "metadata": {},
     "output_type": "execute_result"
    }
   ],
   "source": [
    "from qiskit.qasm3 import dump\n",
    "qasm_filename: str = out_dir + filename + \".qasm\"\n",
    "with open(qasm_filename,\"w\") as f:\n",
    "        dump(circuit=synthesizer.qiskit_circuit, stream=f)\n",
    "oracle_circuit_xag.draw(\"mpl\")"
   ]
  }
 ],
 "metadata": {
  "kernelspec": {
   "display_name": "vcgc",
   "language": "python",
   "name": "python3"
  },
  "language_info": {
   "codemirror_mode": {
    "name": "ipython",
    "version": 3
   },
   "file_extension": ".py",
   "mimetype": "text/x-python",
   "name": "python",
   "nbconvert_exporter": "python",
   "pygments_lexer": "ipython3",
   "version": "3.10.18"
  }
 },
 "nbformat": 4,
 "nbformat_minor": 5
}
